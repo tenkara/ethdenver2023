{
 "cells": [
  {
   "cell_type": "code",
   "execution_count": null,
   "metadata": {},
   "outputs": [],
   "source": [
    "! pip install -r requirements.txt"
   ]
  },
  {
   "cell_type": "code",
   "execution_count": 5,
   "metadata": {},
   "outputs": [
    {
     "data": {
      "text/plain": [
       "True"
      ]
     },
     "execution_count": 5,
     "metadata": {},
     "output_type": "execute_result"
    }
   ],
   "source": [
    "from dotenv import load_dotenv\n",
    "load_dotenv()"
   ]
  },
  {
   "cell_type": "code",
   "execution_count": 13,
   "metadata": {},
   "outputs": [],
   "source": [
    "# Setup: pip install web3\n",
    "from web3 import Web3\n",
    "import os\n",
    "w3 = Web3(Web3.HTTPProvider(os.getenv(\"ALCHEMY_URL\")));"
   ]
  },
  {
   "cell_type": "code",
   "execution_count": 14,
   "metadata": {},
   "outputs": [
    {
     "name": "stdout",
     "output_type": "stream",
     "text": [
      "True\n"
     ]
    }
   ],
   "source": [
    "# Print if web3 is successfully connected\n",
    "print(w3.isConnected())"
   ]
  },
  {
   "cell_type": "code",
   "execution_count": 15,
   "metadata": {},
   "outputs": [
    {
     "name": "stdout",
     "output_type": "stream",
     "text": [
      "8593752\n"
     ]
    }
   ],
   "source": [
    "# Get the latest block number\n",
    "latest_block = w3.eth.block_number\n",
    "print(latest_block)"
   ]
  },
  {
   "cell_type": "code",
   "execution_count": 16,
   "metadata": {},
   "outputs": [
    {
     "name": "stdout",
     "output_type": "stream",
     "text": [
      "500000000000000000\n"
     ]
    }
   ],
   "source": [
    "# Get the balance of an account\n",
    "balance = w3.eth.get_balance(os.getenv('ACCOUNT_ADDRESS_1'))\n",
    "print(balance)"
   ]
  },
  {
   "cell_type": "code",
   "execution_count": 17,
   "metadata": {},
   "outputs": [
    {
     "name": "stdout",
     "output_type": "stream",
     "text": [
      "0xCD1De62a2B1065aB1b5F82Ca4C869610324b4196\n"
     ]
    }
   ],
   "source": [
    "import json\n",
    "with open('EHRBasic.json') as json_file:\n",
    "    abi = json.load(json_file)\n",
    "contract_instance = w3.eth.contract(address=os.getenv('PATIENT_CONTRACT_ADDRESS'), abi=abi)\n",
    "print(contract_instance.address)"
   ]
  },
  {
   "cell_type": "code",
   "execution_count": 18,
   "metadata": {},
   "outputs": [],
   "source": [
    "patient_summary = contract_instance.functions.getPatientSummary().call({\"from\": \"0x9169EC9DA721f7f50bDfCF33db21BAECbe64c284\"})"
   ]
  },
  {
   "cell_type": "code",
   "execution_count": 20,
   "metadata": {},
   "outputs": [
    {
     "data": {
      "text/plain": [
       "['Joe Smith', '25', 'Male', '150', '70']"
      ]
     },
     "execution_count": 20,
     "metadata": {},
     "output_type": "execute_result"
    }
   ],
   "source": [
    "[b.decode(\"utf-8\").strip('\\x00') for b in patient_summary]"
   ]
  },
  {
   "cell_type": "code",
   "execution_count": 21,
   "metadata": {},
   "outputs": [
    {
     "data": {
      "text/plain": [
       "'Joe Smith'"
      ]
     },
     "execution_count": 21,
     "metadata": {},
     "output_type": "execute_result"
    }
   ],
   "source": [
    "patient_summary[0].decode('utf-8').strip('\\x00')"
   ]
  },
  {
   "cell_type": "code",
   "execution_count": 20,
   "metadata": {},
   "outputs": [
    {
     "ename": "ImportError",
     "evalue": "cannot import name 'compile_source' from 'solc' (c:\\Users\\Raj\\repos\\ethdenver2023-hackathon\\blockchain\\server\\venv\\Lib\\site-packages\\solc\\__init__.py)",
     "output_type": "error",
     "traceback": [
      "\u001b[1;31m---------------------------------------------------------------------------\u001b[0m",
      "\u001b[1;31mImportError\u001b[0m                               Traceback (most recent call last)",
      "Cell \u001b[1;32mIn[20], line 2\u001b[0m\n\u001b[0;32m      1\u001b[0m \u001b[39m# compile the contract\u001b[39;00m\n\u001b[1;32m----> 2\u001b[0m \u001b[39mfrom\u001b[39;00m \u001b[39msolc\u001b[39;00m \u001b[39mimport\u001b[39;00m compile_source\n\u001b[0;32m      3\u001b[0m \u001b[39mimport\u001b[39;00m \u001b[39mos\u001b[39;00m\n\u001b[0;32m      5\u001b[0m filepath \u001b[39m=\u001b[39m os\u001b[39m.\u001b[39mpath\u001b[39m.\u001b[39mjoin(os\u001b[39m.\u001b[39mpath\u001b[39m.\u001b[39mdirname(\u001b[39m__file__\u001b[39m), \u001b[39m'\u001b[39m\u001b[39mEEHR.sol\u001b[39m\u001b[39m'\u001b[39m)\n",
      "\u001b[1;31mImportError\u001b[0m: cannot import name 'compile_source' from 'solc' (c:\\Users\\Raj\\repos\\ethdenver2023-hackathon\\blockchain\\server\\venv\\Lib\\site-packages\\solc\\__init__.py)"
     ]
    }
   ],
   "source": [
    "# compile the contract\n",
    "from solc import compile_source\n",
    "import os\n",
    "\n",
    "filepath = os.path.join(os.path.dirname(__file__), 'EEHR.sol')\n",
    "def compile_source_file(file_path):\n",
    "   with open(file_path, 'r') as f:\n",
    "      source = f.read()\n",
    "\n",
    "   return compile_source(source)"
   ]
  },
  {
   "cell_type": "code",
   "execution_count": 22,
   "metadata": {},
   "outputs": [],
   "source": [
    "from flask import Flask, jsonify, request\n",
    "\n",
    "app1 = Flask(__name__)\n",
    "\n",
    "@app1.route('/')\n",
    "def index():\n",
    "    return \"Hello, World!\"\n",
    "\n",
    "@app1.route('/patient', methods=['GET'])\n",
    "def get_patient():\n",
    "    patient_summary = contract_instance.functions.getPatientSummary().call({\"from\": \"0x9169EC9DA721f7f50bDfCF33db21BAECbe64c284\"})\n",
    "    return [b.decode(\"utf-8\").strip('\\x00') for b in patient_summary]\n"
   ]
  },
  {
   "cell_type": "code",
   "execution_count": 23,
   "metadata": {},
   "outputs": [
    {
     "name": "stdout",
     "output_type": "stream",
     "text": [
      " * Serving Flask app '__main__'\n",
      " * Debug mode: off\n"
     ]
    },
    {
     "name": "stderr",
     "output_type": "stream",
     "text": [
      "WARNING: This is a development server. Do not use it in a production deployment. Use a production WSGI server instead.\n",
      " * Running on http://127.0.0.1:5000\n",
      "Press CTRL+C to quit\n",
      "127.0.0.1 - - [01/Mar/2023 21:49:15] \"GET /patient HTTP/1.1\" 200 -\n",
      "127.0.0.1 - - [01/Mar/2023 21:51:19] \"GET /patient HTTP/1.1\" 200 -\n"
     ]
    }
   ],
   "source": [
    "app1.run(port=5000)"
   ]
  }
 ],
 "metadata": {
  "kernelspec": {
   "display_name": ".venv",
   "language": "python",
   "name": "python3"
  },
  "language_info": {
   "codemirror_mode": {
    "name": "ipython",
    "version": 3
   },
   "file_extension": ".py",
   "mimetype": "text/x-python",
   "name": "python",
   "nbconvert_exporter": "python",
   "pygments_lexer": "ipython3",
   "version": "3.11.2"
  },
  "orig_nbformat": 4
 },
 "nbformat": 4,
 "nbformat_minor": 2
}
