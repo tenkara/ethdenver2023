{
 "cells": [
  {
   "cell_type": "code",
   "execution_count": null,
   "metadata": {},
   "outputs": [],
   "source": [
    "! pip install -r requirements.txt"
   ]
  },
  {
   "cell_type": "code",
   "execution_count": null,
   "metadata": {},
   "outputs": [],
   "source": [
    "from dotenv import load_dotenv\n",
    "load_dotenv()"
   ]
  },
  {
   "cell_type": "code",
   "execution_count": null,
   "metadata": {},
   "outputs": [],
   "source": [
    "# Setup: pip install web3\n",
    "from web3 import Web3\n",
    "import os\n",
    "w3 = Web3(Web3.HTTPProvider(os.getenv(\"ALCHEMY_URL\")));"
   ]
  },
  {
   "cell_type": "code",
   "execution_count": null,
   "metadata": {},
   "outputs": [],
   "source": [
    "# Print if web3 is successfully connected\n",
    "print(w3.isConnected())"
   ]
  },
  {
   "cell_type": "code",
   "execution_count": null,
   "metadata": {},
   "outputs": [],
   "source": [
    "# Get the latest block number\n",
    "latest_block = w3.eth.block_number\n",
    "print(latest_block)"
   ]
  },
  {
   "cell_type": "code",
   "execution_count": null,
   "metadata": {},
   "outputs": [],
   "source": [
    "# Get the balance of an account\n",
    "balance = w3.eth.get_balance(os.getenv('ACCOUNT_ADDRESS_1'))\n",
    "print(balance)"
   ]
  },
  {
   "cell_type": "code",
   "execution_count": null,
   "metadata": {},
   "outputs": [],
   "source": [
    "contract_address = os.getenv('PATIENT_CONTRACT_ADDRESS')\n",
    "print(contract_address)"
   ]
  },
  {
   "cell_type": "code",
   "execution_count": null,
   "metadata": {},
   "outputs": [],
   "source": [
    "import json\n",
    "with open('EHRBasic.json') as json_file:\n",
    "    abi = json.load(json_file)\n",
    "contract_instance = w3.eth.contract(address=os.getenv('PATIENT_CONTRACT_ADDRESS'), abi=abi)\n",
    "print(contract_instance.address)"
   ]
  },
  {
   "cell_type": "code",
   "execution_count": null,
   "metadata": {},
   "outputs": [],
   "source": [
    "patient_summary = contract_instance.functions.getPatientSummary().call({\"from\": \"0xB65f7F56bD645274d6BCd35Ed25f3615a769557f\"})"
   ]
  },
  {
   "cell_type": "code",
   "execution_count": null,
   "metadata": {},
   "outputs": [],
   "source": [
    "[b.decode(\"utf-8\").strip('\\x00') for b in patient_summary]"
   ]
  },
  {
   "cell_type": "code",
   "execution_count": null,
   "metadata": {},
   "outputs": [],
   "source": [
    "patient_summary[0].decode('utf-8').strip('\\x00')"
   ]
  },
  {
   "cell_type": "code",
   "execution_count": null,
   "metadata": {},
   "outputs": [],
   "source": [
    "# compile the contract\n",
    "from solc import compile_source\n",
    "import os\n",
    "\n",
    "filepath = os.path.join(os.path.dirname(__file__), 'EEHR.sol')\n",
    "def compile_source_file(file_path):\n",
    "   with open(file_path, 'r') as f:\n",
    "      source = f.read()\n",
    "\n",
    "   return compile_source(source)"
   ]
  },
  {
   "cell_type": "code",
   "execution_count": null,
   "metadata": {},
   "outputs": [],
   "source": [
    "from flask import Flask, jsonify, request\n",
    "\n",
    "app1 = Flask(__name__)\n",
    "\n",
    "@app1.route('/')\n",
    "def index():\n",
    "    return \"Hello, World!\"\n",
    "\n",
    "@app1.route('/patient', methods=['GET'])\n",
    "def get_patient():\n",
    "    patient_summary = contract_instance.functions.getPatientSummary().call({\"from\": \"0x9169EC9DA721f7f50bDfCF33db21BAECbe64c284\"})\n",
    "    return [b.decode(\"utf-8\").strip('\\x00') for b in patient_summary]\n"
   ]
  },
  {
   "cell_type": "code",
   "execution_count": null,
   "metadata": {},
   "outputs": [],
   "source": [
    "app1.run(port=5000)"
   ]
  }
 ],
 "metadata": {
  "kernelspec": {
   "display_name": ".venv",
   "language": "python",
   "name": "python3"
  },
  "language_info": {
   "codemirror_mode": {
    "name": "ipython",
    "version": 3
   },
   "file_extension": ".py",
   "mimetype": "text/x-python",
   "name": "python",
   "nbconvert_exporter": "python",
   "pygments_lexer": "ipython3",
   "version": "3.11.2"
  },
  "orig_nbformat": 4
 },
 "nbformat": 4,
 "nbformat_minor": 2
}
